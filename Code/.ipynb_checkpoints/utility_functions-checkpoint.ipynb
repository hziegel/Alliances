{
 "cells": [
  {
   "cell_type": "code",
   "execution_count": 1,
   "id": "99bc5849",
   "metadata": {},
   "outputs": [],
   "source": [
    "# Utility Functions\n",
    "# Heron Ziegel\n",
    "# 915986142"
   ]
  },
  {
   "cell_type": "code",
   "execution_count": 1,
   "id": "1738c8a6",
   "metadata": {},
   "outputs": [],
   "source": [
    "import numpy as np\n",
    "import networkx as nx\n",
    "import itertools\n",
    "import math\n",
    "\n",
    "# Create a new graph\n",
    "def newGraph(input_data, column_names):\n",
    "    G = nx.Graph()\n",
    "\n",
    "    for j in range(input_data.shape[0]):\n",
    "        for i in range(input_data.shape[0]):\n",
    "            if i>j and input_data[i,j] != 0:\n",
    "                G.add_edge(column_names[i], column_names[j], weight= input_data[i,j])\n",
    "    return G\n",
    "\n",
    "# Return list of triangles, label balanced (1) or unbalanced (-1)\n",
    "def triangles(G): \n",
    "    triangle_types={}\n",
    "    triangles = [c for c in nx.cycle_basis(G) if len(c)==3]\n",
    "    for triangle in triangles:\n",
    "        tri=nx.subgraph(G,triangle)\n",
    "        #take the product of the edge relationships. If there are an odd number of -1s, the triangle is unbalanced.\n",
    "        triangle_types[tuple(tri.nodes())]=np.product([x[2]['weight'] for x in tri.edges(data=True)])\n",
    "    return triangle_types\n",
    "\n",
    "# Returns the structural balance of the overall graph\n",
    "def structural_balance(G):\n",
    "    n = G.number_of_nodes()\n",
    "    # Number of triangles in a fully connected graph = n(n-1)(n-2) / 6\n",
    "    num_triangles = (n*(n-1)*(n-2))/6\n",
    "    triangle_types = triangles(G)\n",
    "    return sum(x for x in triangle_types.values() if x == 1)/num_triangles\n",
    "\n",
    "# Return edge weight if an edge exists between the two nodes, 0 if not\n",
    "def edge_weight(G, a, b):\n",
    "    for edge in G.edges():\n",
    "        if (edge[0] == a and edge[1] == b):\n",
    "            return G.get_edge_data(a, b)['weight']\n",
    "        if (edge[0] == b and edge[1] == a):\n",
    "            return G.get_edge_data(b, a)['weight']\n",
    "    return 0\n",
    "\n",
    "# Input two nodes and new weight to update the weight of the edge\n",
    "def update_edge_weight(G, a, b, new_weight):\n",
    "    if G.has_edge(a,b):\n",
    "        G.remove_edge(a,b)\n",
    "    elif G.has_edge(b,a):\n",
    "        G.remove_edge(b,a)\n",
    "    if new_weight != 0:\n",
    "        G.add_edge(a,b, weight=new_weight)"
   ]
  },
  {
   "cell_type": "code",
   "execution_count": null,
   "id": "37c5d3c3",
   "metadata": {},
   "outputs": [],
   "source": []
  }
 ],
 "metadata": {
  "kernelspec": {
   "display_name": "Python 3 (ipykernel)",
   "language": "python",
   "name": "python3"
  },
  "language_info": {
   "codemirror_mode": {
    "name": "ipython",
    "version": 3
   },
   "file_extension": ".py",
   "mimetype": "text/x-python",
   "name": "python",
   "nbconvert_exporter": "python",
   "pygments_lexer": "ipython3",
   "version": "3.11.5"
  }
 },
 "nbformat": 4,
 "nbformat_minor": 5
}
