{
 "cells": [
  {
   "cell_type": "code",
   "execution_count": 1,
   "id": "5e8111dc",
   "metadata": {},
   "outputs": [],
   "source": [
    "# Heron Ziegel\n",
    "# 915986142\n",
    "\n",
    "import networkx as nx\n",
    "import itertools\n",
    "import matplotlib.pyplot as plt"
   ]
  },
  {
   "cell_type": "code",
   "execution_count": 2,
   "id": "1ae1f994",
   "metadata": {},
   "outputs": [],
   "source": [
    "def showGraph(G, SEED, column_names):\n",
    "    # Generate the node labels\n",
    "    labeldict = {}\n",
    "    for i in range(0, len(column_names)):\n",
    "        labeldict[i] = column_names[i]\n",
    "\n",
    "    # Separate into positive and negative edges\n",
    "    elarge = [(u, v) for (u, v, d) in G.edges(data=True) if d[\"weight\"] == 1]\n",
    "    esmall = [(u, v) for (u, v, d) in G.edges(data=True) if d[\"weight\"] == -1]\n",
    "\n",
    "    pos = nx.spring_layout(G, seed=SEED)  # positions for all nodes - seed for reproducibility\n",
    "\n",
    "    # nodes\n",
    "    nx.draw_networkx_nodes(G, pos, node_size=700, node_color=\"tab:orange\")\n",
    "\n",
    "    # edges\n",
    "    nx.draw_networkx_edges(G, pos, edgelist=elarge, width=3)\n",
    "    nx.draw_networkx_edges(\n",
    "        G, pos, edgelist=esmall, width=3, alpha=0.5, edge_color=\"r\", style=\"dashed\"\n",
    "    )\n",
    "\n",
    "    # node labels\n",
    "    nx.draw_networkx_labels(G, pos, font_size=10, font_family=\"sans-serif\")\n",
    "\n",
    "    ax = plt.gca()\n",
    "    ax.margins(0.08)\n",
    "    plt.axis(\"off\")\n",
    "    plt.tight_layout()\n",
    "    plt.show()"
   ]
  },
  {
   "cell_type": "code",
   "execution_count": null,
   "id": "1d31d111",
   "metadata": {},
   "outputs": [],
   "source": []
  }
 ],
 "metadata": {
  "kernelspec": {
   "display_name": "Python 3 (ipykernel)",
   "language": "python",
   "name": "python3"
  },
  "language_info": {
   "codemirror_mode": {
    "name": "ipython",
    "version": 3
   },
   "file_extension": ".py",
   "mimetype": "text/x-python",
   "name": "python",
   "nbconvert_exporter": "python",
   "pygments_lexer": "ipython3",
   "version": "3.11.5"
  }
 },
 "nbformat": 4,
 "nbformat_minor": 5
}
